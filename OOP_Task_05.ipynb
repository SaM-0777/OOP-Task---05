{
  "nbformat": 4,
  "nbformat_minor": 0,
  "metadata": {
    "colab": {
      "name": "OOP_Task-05.ipynb",
      "provenance": [],
      "authorship_tag": "ABX9TyOnmjp7NAwcdLDJaNO0JaQv",
      "include_colab_link": true
    },
    "kernelspec": {
      "name": "python3",
      "display_name": "Python 3"
    },
    "language_info": {
      "name": "python"
    }
  },
  "cells": [
    {
      "cell_type": "markdown",
      "metadata": {
        "id": "view-in-github",
        "colab_type": "text"
      },
      "source": [
        "<a href=\"https://colab.research.google.com/github/Soumyaranjan2021/OOP-Task---05/blob/main/OOP_Task_05.ipynb\" target=\"_parent\"><img src=\"https://colab.research.google.com/assets/colab-badge.svg\" alt=\"Open In Colab\"/></a>"
      ]
    },
    {
      "cell_type": "code",
      "metadata": {
        "colab": {
          "base_uri": "https://localhost:8080/"
        },
        "id": "Fsfa45gu6lg0",
        "outputId": "60e05780-abb4-463b-dbca-41d2cf928463"
      },
      "source": [
        "# Program 1\n",
        "from numpy import pi\n",
        "\n",
        "class Shape(object):\n",
        "  def __init__(self, shape):\n",
        "    self.shape = shape\n",
        "  \n",
        "  def Area(self):\n",
        "    pass\n",
        "\n",
        "class Circle(Shape):\n",
        "  def __init__(self, radius):\n",
        "    self.radius = radius\n",
        "    Shape.__init__(self, 'Circle')\n",
        "  def Area(self):\n",
        "    print(f'Area of {self.shape} : {pi * (self.radius ** 2)}')\n",
        "    return\n",
        "\n",
        "class Rectangle(Shape):\n",
        "  def __init__(self, length, breadth):\n",
        "    self.l = length\n",
        "    self.b = breadth\n",
        "    Shape.__init__(self, 'Rectangle')\n",
        "  def Area(self):\n",
        "    print(f'Area of {self.shape} : {self.l * self.b}')\n",
        "    return\n",
        "\n",
        "class Square(Shape):\n",
        "  def __init__(self, side):\n",
        "    self.a = side\n",
        "    Shape.__init__(self, 'Square')\n",
        "  def Area(self):\n",
        "    print(f'Area of {self.shape} : {self.a ** 2}')\n",
        "    return\n",
        "\n",
        "C = Circle(2)\n",
        "R = Rectangle(10, 5)\n",
        "S = Square(5)\n",
        "C.Area()\n",
        "R.Area()\n",
        "S.Area()\n",
        "\n"
      ],
      "execution_count": 3,
      "outputs": [
        {
          "output_type": "stream",
          "name": "stdout",
          "text": [
            "Area of Circle : 12.566370614359172\n",
            "Area of Rectangle : 50\n",
            "Area of Square : 25\n"
          ]
        }
      ]
    },
    {
      "cell_type": "code",
      "metadata": {
        "colab": {
          "base_uri": "https://localhost:8080/"
        },
        "id": "zYpVowHi9kCp",
        "outputId": "9059b46b-518f-4380-8b13-e540fa8b2689"
      },
      "source": [
        "# Program 2\n",
        "class Travel(object):\n",
        "  def __init__(self, passengers, distance, mode):\n",
        "    self._passenger = passengers\n",
        "    self.distance = distance\n",
        "    self.mode = mode\n",
        "  def getPassengers(self):\n",
        "    return self._passenger\n",
        "\n",
        "class Train(Travel):\n",
        "  cost = 60         # Assuming cost per each person per 100 kms\n",
        "  def __init__(self, No_Passengers, dis, m):\n",
        "    Travel.__init__(self, No_Passengers, dis, m)\n",
        "  def TotalCost(self):\n",
        "    return self.getPassengers() * self.cost * self.distance / 100\n",
        "\n",
        "class Bus(Travel):\n",
        "  cost = 100      # Assuming cost per each person per 100 kms\n",
        "  def __init__(self, No_Passengers, dis, m):\n",
        "    Travel.__init__(self, No_Passengers, dis, m)\n",
        "  def TotalCost(self):\n",
        "    return self.getPassengers() * self.cost * self.distance / 100\n",
        "\n",
        "if __name__ == \"__main__\":\n",
        "  T = Train(5, 412, 'By-Train')\n",
        "  print('Travel mode : ', T.mode)\n",
        "  print(f'Total Cost : {T.TotalCost()}')\n",
        "  \n",
        "  print()\n",
        "  \n",
        "  B = Bus(5, 412, 'By-Bus')\n",
        "  print('Travel mode : ', B.mode)\n",
        "  print(f'Total Cost : {B.TotalCost()}')\n",
        "\n",
        "  print()\n",
        "\n",
        "  if B.TotalCost() < T.TotalCost():\n",
        "    print('Efficient Mode : ', B.mode)\n",
        "  else:\n",
        "    print('Efficient Mode : ', T.mode)\n",
        "\n"
      ],
      "execution_count": 12,
      "outputs": [
        {
          "output_type": "stream",
          "name": "stdout",
          "text": [
            "Travel mode :  By-Train\n",
            "Total Cost : 1236.0\n",
            "\n",
            "Travel mode :  By-Bus\n",
            "Total Cost : 2060.0\n",
            "\n",
            "Efficient Mode :  By-Train\n"
          ]
        }
      ]
    },
    {
      "cell_type": "code",
      "metadata": {
        "colab": {
          "base_uri": "https://localhost:8080/"
        },
        "id": "NLAkhAZ8DCM-",
        "outputId": "ef5eab8b-d7a4-42bf-cffd-a751ce1c88f4"
      },
      "source": [
        "# Program 3\n",
        "class Car(object):\n",
        "  def __init__(self, Model_Number):\n",
        "    self.M_No = Model_Number\n",
        "  def ModelNumber(self):\n",
        "    return self.M_No\n",
        "\n",
        "if __name__ == \"__main__\":\n",
        "  C1 = Car(7815451465474652)\n",
        "  C2 = Car(6544414616436433)\n",
        "\n",
        "  print(\"Before swapping : \")\n",
        "  print(\"Car 1 Model Number : \", C1.ModelNumber())\n",
        "  print(\"Car 2 Model Number : \", C2.ModelNumber())\n",
        "\n",
        "  C1.M_No, C2.M_No = C2.ModelNumber(), C1.ModelNumber()\n",
        "\n",
        "  print(\"\\nAfter Swapping : \")\n",
        "  print(\"Car 1 Model Number : \", C1.ModelNumber())\n",
        "  print(\"Car 2 Model Number : \", C2.ModelNumber())"
      ],
      "execution_count": 17,
      "outputs": [
        {
          "output_type": "stream",
          "name": "stdout",
          "text": [
            "Before swapping : \n",
            "Car 1 Model Number :  7815451465474652\n",
            "Car 2 Model Number :  6544414616436433\n",
            "\n",
            "After Swapping : \n",
            "Car 1 Model Number :  6544414616436433\n",
            "Car 2 Model Number :  7815451465474652\n"
          ]
        }
      ]
    }
  ]
}